{
 "cells": [
  {
   "cell_type": "code",
   "execution_count": 69,
   "id": "84f0cd69",
   "metadata": {},
   "outputs": [],
   "source": [
    "#QR Code generation in Python"
   ]
  },
  {
   "cell_type": "markdown",
   "id": "53dfe53e",
   "metadata": {},
   "source": [
    "# QR Code Generation"
   ]
  },
  {
   "cell_type": "code",
   "execution_count": 70,
   "id": "67a85bee",
   "metadata": {},
   "outputs": [
    {
     "name": "stdout",
     "output_type": "stream",
     "text": [
      "Requirement already satisfied: qrcode in c:\\users\\user\\anaconda3\\lib\\site-packages (7.4.2)\n",
      "Requirement already satisfied: colorama in c:\\users\\user\\anaconda3\\lib\\site-packages (from qrcode) (0.4.4)\n",
      "Requirement already satisfied: typing-extensions in c:\\users\\user\\anaconda3\\lib\\site-packages (from qrcode) (4.4.0)Note: you may need to restart the kernel to use updated packages.\n",
      "\n",
      "Requirement already satisfied: pypng in c:\\users\\user\\anaconda3\\lib\\site-packages (from qrcode) (0.20220715.0)\n"
     ]
    }
   ],
   "source": [
    "pip install qrcode"
   ]
  },
  {
   "cell_type": "code",
   "execution_count": 71,
   "id": "31f46461",
   "metadata": {},
   "outputs": [],
   "source": [
    "import qrcode\n",
    "from PIL import Image"
   ]
  },
  {
   "cell_type": "code",
   "execution_count": 72,
   "id": "56cd5230",
   "metadata": {},
   "outputs": [],
   "source": [
    "#the data you want to encode in the QR Code\n",
    "data= \"https://github.com/Ruthbaiby\""
   ]
  },
  {
   "cell_type": "code",
   "execution_count": 99,
   "id": "465f9820",
   "metadata": {},
   "outputs": [],
   "source": [
    "#Generate the QR Code\n",
    "qr= qrcode.QRCode(version=1, box_size=10, border=5)\n",
    "qr.add_data(data)\n",
    "qr.make(fit=True)"
   ]
  },
  {
   "cell_type": "code",
   "execution_count": 100,
   "id": "9c104322",
   "metadata": {},
   "outputs": [],
   "source": [
    "#Create an image from the QR Code\n",
    "image= qr.make_image(fill=\"black\", back_color=\"green\")"
   ]
  },
  {
   "cell_type": "code",
   "execution_count": 101,
   "id": "94227f5d",
   "metadata": {},
   "outputs": [],
   "source": [
    "#save the image\n",
    "image.save(\"qr_code.png\")"
   ]
  },
  {
   "cell_type": "code",
   "execution_count": 102,
   "id": "60a3b6b2",
   "metadata": {},
   "outputs": [
    {
     "data": {
      "image/png": "[encoded data removed]",
      "text/plain": [
       "<qrcode.image.pil.PilImage at 0x22101c82c70>"
      ]
     },
     "execution_count": 102,
     "metadata": {},
     "output_type": "execute_result"
    }
   ],
   "source": [
    "#open the image\n",
    "image"
   ]
  },
  {
   "cell_type": "code",
   "execution_count": null,
   "id": "303871b2",
   "metadata": {},
   "outputs": [],
   "source": []
  }
 ],
 "metadata": {
  "kernelspec": {
   "display_name": "Python 3 (ipykernel)",
   "language": "python",
   "name": "python3"
  },
  "language_info": {
   "codemirror_mode": {
    "name": "ipython",
    "version": 3
   },
   "file_extension": ".py",
   "mimetype": "text/x-python",
   "name": "python",
   "nbconvert_exporter": "python",
   "pygments_lexer": "ipython3",
   "version": "3.9.12"
  }
 },
 "nbformat": 4,
 "nbformat_minor": 5
}
